{
 "cells": [
  {
   "cell_type": "code",
   "execution_count": null,
   "metadata": {},
   "outputs": [
    {
     "name": "stdout",
     "output_type": "stream",
     "text": [
      "-610.277073229895\n"
     ]
    }
   ],
   "source": [
    "import numpy as np\n",
    "import pandas as pd\n",
    "from sklearn import preprocessing, model_selection, neighbors, svm, cluster\n",
    "\n",
    "df = pd.read_csv('breast_cancer.csv')\n",
    "df.replace('?', -99999, inplace=True)\n",
    "df.drop(['id'], inplace=True, axis=1)\n",
    "\n",
    "X = np.array(df.drop(['class'], axis=1))\n",
    "y = np.array(df['class'])\n",
    "X = preprocessing.scale(X)\n",
    "\n",
    "X_train, X_test, y_train, y_test = model_selection.train_test_split(X, y, test_size=0.2)\n",
    "#clf = svm.SVC()\n",
    "#clf.fit(X_train, y_train)\n",
    "#accuracy = clf.score(X_test, y_test)\n",
    "#print(accuracy)\n",
    "\n",
    "\n",
    "clf = cluster.KMeans(n_clusters=2)\n",
    "clf.fit(X_train, y_train)\n",
    "centroids = clf.cluster_centers_\n",
    "\n",
    "\n",
    "\n",
    "\n",
    "\n",
    "\n",
    "\n",
    "\n",
    "\n",
    "\n",
    "\n",
    "\n",
    "\n",
    "\n",
    "\n",
    "accuracy = clf.score(X_test, y_test)\n",
    "print(accuracy)\n",
    "# example_measures = np.array([4, 2, 1, 1, 1, 2, 3, 2, 1])\n",
    "# example_measures = example_measures.reshape(1, -1)\n",
    "# example_measures_1 = np.array([[4, 2, 1, 1, 1, 2, 3, 2, 1], [5, 2, 1, 2, 1, 2, 1, 2, 1]])\n",
    "# example_measures_1 = example_measures_1.reshape(len(example_measures_1), -1)\n",
    "# prediction_1 = clf.predict(example_measures_1)\n",
    "# prediction = clf.predict(example_measures)\n",
    "# print(prediction)\n",
    "# print(prediction_1)"
   ]
  }
 ],
 "metadata": {
  "kernelspec": {
   "display_name": "Python 3",
   "language": "python",
   "name": "python3"
  },
  "language_info": {
   "codemirror_mode": {
    "name": "ipython",
    "version": 3
   },
   "file_extension": ".py",
   "mimetype": "text/x-python",
   "name": "python",
   "nbconvert_exporter": "python",
   "pygments_lexer": "ipython3",
   "version": "3.11.9"
  }
 },
 "nbformat": 4,
 "nbformat_minor": 5
}
